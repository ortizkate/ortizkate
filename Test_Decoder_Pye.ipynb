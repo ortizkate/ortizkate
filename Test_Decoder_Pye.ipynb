{
  "nbformat": 4,
  "nbformat_minor": 0,
  "metadata": {
    "colab": {
      "provenance": [],
      "include_colab_link": true
    },
    "kernelspec": {
      "name": "python3",
      "display_name": "Python 3"
    },
    "language_info": {
      "name": "python"
    }
  },
  "cells": [
    {
      "cell_type": "markdown",
      "metadata": {
        "id": "view-in-github",
        "colab_type": "text"
      },
      "source": [
        "<a href=\"https://colab.research.google.com/github/ortizkate/ortizkate/blob/main/Test_Decoder_Pye.ipynb\" target=\"_parent\"><img src=\"https://colab.research.google.com/assets/colab-badge.svg\" alt=\"Open In Colab\"/></a>"
      ]
    },
    {
      "cell_type": "code",
      "source": [
        "import math\n",
        "import struct\n",
        "import base64\n",
        "from base64 import binascii\n",
        "import pandas as pd\n",
        "import numpy as np"
      ],
      "metadata": {
        "id": "mYtXuJLZa25I"
      },
      "execution_count": null,
      "outputs": []
    },
    {
      "cell_type": "code",
      "execution_count": null,
      "metadata": {
        "id": "EzTQnC-paMta"
      },
      "outputs": [],
      "source": [
        "def readUInt16LE(bytes):\n",
        "    value = (bytes[1] << 8) + bytes[0]\n",
        "    return (value & 0xFFFF)"
      ]
    },
    {
      "cell_type": "code",
      "source": [
        "def read_int16_le(bytes):\n",
        "    ref = read_uint16_le(bytes)\n",
        "    return ref - 0x10000 if ref > 0x7fff else ref"
      ],
      "metadata": {
        "id": "H0VRMl4muJjl"
      },
      "execution_count": null,
      "outputs": []
    },
    {
      "cell_type": "code",
      "source": [
        "def readUInt32LE(bytes): \n",
        "    value = (bytes[3] << 24) + (bytes[2] << 16) + (bytes[1] << 8) + bytes[0]\n",
        "    return (value & 0xFFFFFFFF)"
      ],
      "metadata": {
        "id": "CypGZrmutoJO"
      },
      "execution_count": null,
      "outputs": []
    },
    {
      "cell_type": "code",
      "source": [
        "def readInt32LE(bytes):\n",
        "    ref = readUInt32LE(bytes)\n",
        "    if ref > 0x7FFFFFFF:\n",
        "        return(ref - 0x100000000)\n",
        "    return (ref)"
      ],
      "metadata": {
        "id": "yzhImESUtoVh"
      },
      "execution_count": null,
      "outputs": []
    },
    {
      "cell_type": "code",
      "source": [
        "def readFloatLE(bytes):\n",
        "    str_val=''\n",
        "    for a in reversed(bytes):\n",
        "        str_val = str_val+f'{a:02X}'\n",
        "        #print(f'{a:02X}')\n",
        "    \n",
        "    #print(''.join(f'{i:02x}' for i in bytes))\n",
        "    f = struct.unpack('!f', bytes.fromhex(str_val))[0]   \n",
        "\n",
        "    # print(\"py:\",bytes.hex())\n",
        "    # print(\"my:\",str_val)\n",
        "    return f"
      ],
      "metadata": {
        "id": "fpzjSwAMtoa_"
      },
      "execution_count": null,
      "outputs": []
    },
    {
      "cell_type": "code",
      "source": [
        "def decode_payload_em500udl(payload_str):\n",
        "    payload_hex = base64.urlsafe_b64decode(payload_str)\n",
        "    # print(\"Payload Raw:\",payload_str)\n",
        "    # print(\"Payload Hex:\",payload_hex.hex())\n",
        "    decode_out=[]\n",
        "    k = 0\n",
        "    i = 0\n",
        "    while k< len(payload_hex):\n",
        "        ch_id   = payload_hex[i]\n",
        "        ch_type = payload_hex[i+1]\n",
        "        # Battery\n",
        "        if ch_id == 0x01 and ch_type == 0x75:\n",
        "            ch_val  = payload_hex[i+2]\n",
        "            decode_out.append(['bat', ch_val])\n",
        "            i = i + 3\n",
        "\n",
        "        # Distance\n",
        "        ch_id   = payload_hex[i]\n",
        "        ch_type = payload_hex[i+1]\n",
        "        if ch_id == 0x03 and ch_type == 0x82:\n",
        "            ch_val  = payload_hex[i+3] << 8  | payload_hex[i+2] \n",
        "            decode_out.append(['val', ch_val])\n",
        "            i = i + 4\n",
        "        break\n",
        "        \n",
        "        # POSITION\n",
        "        # ch_id   = payload_hex[i]\n",
        "        # ch_type = payload_hex[i+1]\n",
        "        # ch_val  = payload_hex[i+2]\n",
        "        # if ch_id == 0x04 and ch_type == 0x00:\n",
        "        #     decode_out.append(['pos', 'tilt']) if ch_val==1 else decode_out.append(['pos', 'normal'])                \n",
        "        # break\n",
        "\n",
        "    return (decode_out)"
      ],
      "metadata": {
        "id": "p50SXFVRj2qr"
      },
      "execution_count": null,
      "outputs": []
    },
    {
      "cell_type": "code",
      "source": [
        "# Validando Código EM500UDL\n",
        "Trama_DB='AXVkA4JyBQOCcgU='\n",
        "s = decode_payload_em500udl(Trama_DB)\n",
        "print(s)"
      ],
      "metadata": {
        "id": "SxTNfQNbkVxx",
        "colab": {
          "base_uri": "https://localhost:8080/"
        },
        "outputId": "7777c97c-8e26-47b3-ddba-cc4f3d133389"
      },
      "execution_count": null,
      "outputs": [
        {
          "output_type": "stream",
          "name": "stdout",
          "text": [
            "[['bat', 100], ['val', 1394]]\n"
          ]
        }
      ]
    }
  ]
}